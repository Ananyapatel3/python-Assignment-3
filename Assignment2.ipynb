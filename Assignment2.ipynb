{
 "cells": [
  {
   "cell_type": "code",
   "execution_count": null,
   "id": "40729f77-bbcb-453f-9b20-f40ac27831c4",
   "metadata": {},
   "outputs": [],
   "source": [
    "Q1. How do you comment code in Python? What are the different types of comments?"
   ]
  },
  {
   "cell_type": "code",
   "execution_count": 1,
   "id": "1b916ef3-3fa4-40b0-aa43-902b3bc723e8",
   "metadata": {},
   "outputs": [
    {
     "name": "stdout",
     "output_type": "stream",
     "text": [
      "Hello, World!\n"
     ]
    }
   ],
   "source": [
    "# This is a single-line comment\n",
    "print(\"Hello, World!\")  # This is another single-line comment\n",
    "'''\n",
    "This is a multi-line comment or docstring.\n",
    "It can span multiple lines and is often used for documentation purposes.\n",
    "'''\n",
    "def add(a, b):\n",
    "    \"\"\"This is also a docstring.\n",
    "    It provides a brief description of the function's purpose and usage.\"\"\"\n",
    "    return a + b\n",
    "\n"
   ]
  },
  {
   "cell_type": "code",
   "execution_count": null,
   "id": "b01eafeb-f404-4381-bcc9-cb3063a30a66",
   "metadata": {},
   "outputs": [],
   "source": [
    "Q2. What are variables in Python? How do you declare and assign values to variables?"
   ]
  },
  {
   "cell_type": "code",
   "execution_count": 4,
   "id": "862dc08a-93d3-4902-ba67-7bdd6c0de277",
   "metadata": {},
   "outputs": [],
   "source": [
    "def add(a, b):\n",
    "    \"\"\"This function takes two numbers, 'a' and 'b', and returns their sum.\n",
    "    \n",
    "    Args:\n",
    "        a (int or float): The first number to be added.\n",
    "        b (int or float): The second number to be added.\n",
    "        \n",
    "    Returns:\n",
    "        int or float: The sum of 'a' and 'b'.\n",
    "        \n",
    "    Example:\n",
    "        >>> add(2, 3)\n",
    "        5\n",
    "        >>> add(4.5, 6.7)\n",
    "        11.2\n",
    "    \"\"\"\n",
    "    return a + b\n"
   ]
  },
  {
   "cell_type": "code",
   "execution_count": null,
   "id": "ab1d89a2-98d3-4cbd-9d63-35f2bbf7452a",
   "metadata": {},
   "outputs": [],
   "source": [
    "Q3. How do you convert one data type to another in Python?"
   ]
  },
  {
   "cell_type": "code",
   "execution_count": 6,
   "id": "e1bf03eb-41c7-46e7-95ef-95680da4ba72",
   "metadata": {},
   "outputs": [
    {
     "name": "stdout",
     "output_type": "stream",
     "text": [
      "42\n",
      "123\n",
      "3\n",
      "13.5\n",
      "13.5\n",
      "[10, 20, 30]\n"
     ]
    }
   ],
   "source": [
    "# Integer to String\n",
    "x = 42\n",
    "x_str = str(x)\n",
    "print(x_str)\n",
    "# String to Integer\n",
    "y_str = \"123\"\n",
    "y = int(y_str)\n",
    "print(y)  \n",
    "# Float to Integer\n",
    "z_float = 3.14\n",
    "z_int = int(z_float)\n",
    "print(z_int)\n",
    "# Implicit Type Conversion (Type Coercion)\n",
    "a = 10\n",
    "b = 3.5\n",
    "result = a + b  # 'a' is converted to a float before addition\n",
    "print(result)  \n",
    "# Implicit Type Conversion (Type Coercion)\n",
    "a = 10\n",
    "b = 3.5\n",
    "result = a + b  # 'a' is converted to a float before addition\n",
    "print(result)  \n",
    "# Custom Type Conversion: String list to Integer list\n",
    "string_list = [\"10\", \"20\", \"30\"]\n",
    "integer_list = [int(num) for num in string_list]\n",
    "print(integer_list)  \n",
    "\n"
   ]
  },
  {
   "cell_type": "code",
   "execution_count": null,
   "id": "96d6f0a9-1c04-4cd6-ba6c-1af2a79db426",
   "metadata": {},
   "outputs": [],
   "source": [
    "Q4. How do you write and execute a Python script from the command line?"
   ]
  },
  {
   "cell_type": "code",
   "execution_count": 7,
   "id": "7a1200ee-6ecd-40ad-bb28-52855dc8e8f0",
   "metadata": {},
   "outputs": [
    {
     "ename": "SyntaxError",
     "evalue": "invalid syntax (2580824957.py, line 3)",
     "output_type": "error",
     "traceback": [
      "\u001b[0;36m  Cell \u001b[0;32mIn[7], line 3\u001b[0;36m\u001b[0m\n\u001b[0;31m    cd C:\\Users\\YourUsername\\Documents\\PythonScripts\u001b[0m\n\u001b[0m       ^\u001b[0m\n\u001b[0;31mSyntaxError\u001b[0m\u001b[0;31m:\u001b[0m invalid syntax\n"
     ]
    }
   ],
   "source": [
    "# hello.py\n",
    "print(\"Hello, World!\")\n",
    "cd C:\\Users\\YourUsername\\Documents\\PythonScripts\n",
    "python hello.py\n",
    "Hello, World!\n",
    "\n"
   ]
  },
  {
   "cell_type": "code",
   "execution_count": null,
   "id": "2fd84221-b493-4d75-8188-6e43f06157d1",
   "metadata": {},
   "outputs": [],
   "source": [
    "Q5. Given a list my_list = [1, 2, 3, 4, 5], write the code to slice the list and obtain the sub-list [2, 3]."
   ]
  },
  {
   "cell_type": "code",
   "execution_count": 8,
   "id": "701248fc-2dd9-4034-aff5-029ee6ee740d",
   "metadata": {},
   "outputs": [
    {
     "name": "stdout",
     "output_type": "stream",
     "text": [
      "[2, 3]\n"
     ]
    }
   ],
   "source": [
    "my_list = [1, 2, 3, 4, 5]\n",
    "\n",
    "# Slice the list to obtain the sub-list [2, 3]\n",
    "sub_list = my_list[1:3]\n",
    "\n",
    "print(sub_list)  \n"
   ]
  },
  {
   "cell_type": "code",
   "execution_count": null,
   "id": "0126ae94-4455-446c-bb1e-5678eac64c0e",
   "metadata": {},
   "outputs": [],
   "source": [
    "Q6. What is a complex number in mathematics, and how is it represented in Python?"
   ]
  },
  {
   "cell_type": "code",
   "execution_count": 9,
   "id": "0c6f9f46-dcb9-4235-bdf1-3adfd899c4ed",
   "metadata": {},
   "outputs": [
    {
     "name": "stdout",
     "output_type": "stream",
     "text": [
      "z1: (3+2j)\n",
      "z2: (1-4j)\n",
      "Addition: (4-2j)\n",
      "Subtraction: (2+6j)\n",
      "Multiplication: (11-10j)\n",
      "Division: (-0.29411764705882354+0.8235294117647058j)\n"
     ]
    }
   ],
   "source": [
    "# Create a complex number: a + bj\n",
    "z1 = 3 + 2j\n",
    "z2 = 1 - 4j\n",
    "\n",
    "# Perform basic arithmetic operations\n",
    "addition = z1 + z2\n",
    "subtraction = z1 - z2\n",
    "multiplication = z1 * z2\n",
    "division = z1 / z2\n",
    "\n",
    "print(\"z1:\", z1)\n",
    "print(\"z2:\", z2)\n",
    "print(\"Addition:\", addition)\n",
    "print(\"Subtraction:\", subtraction)\n",
    "print(\"Multiplication:\", multiplication)\n",
    "print(\"Division:\", division)\n"
   ]
  },
  {
   "cell_type": "code",
   "execution_count": null,
   "id": "31efb3be-f81f-46ce-a365-36404d512c76",
   "metadata": {},
   "outputs": [],
   "source": [
    "Q7. What is the correct way to declare a variable named age and assign the value 25 to it?"
   ]
  },
  {
   "cell_type": "code",
   "execution_count": 10,
   "id": "fc83f232-8d50-4e81-a44f-3422274fd5ed",
   "metadata": {},
   "outputs": [
    {
     "name": "stdout",
     "output_type": "stream",
     "text": [
      "25\n"
     ]
    }
   ],
   "source": [
    "age = 25\n",
    "print(age)"
   ]
  },
  {
   "cell_type": "code",
   "execution_count": null,
   "id": "87d4982d-9670-4808-b812-6ab4b613bdff",
   "metadata": {},
   "outputs": [],
   "source": [
    "Q8. Declare a variable named price and assign the value 9.99 to it. What data type does this variable\n",
    "belong to?"
   ]
  },
  {
   "cell_type": "code",
   "execution_count": 11,
   "id": "0e180834-1afa-4f00-8c16-6038cf280eb8",
   "metadata": {},
   "outputs": [
    {
     "name": "stdout",
     "output_type": "stream",
     "text": [
      "<class 'float'>\n"
     ]
    }
   ],
   "source": [
    "price = 9.99\n",
    "print(type(price))  \n"
   ]
  },
  {
   "cell_type": "code",
   "execution_count": null,
   "id": "0e1ab6da-1235-4ea3-b75d-d5c979718708",
   "metadata": {},
   "outputs": [],
   "source": [
    "Q9. Create a variable named name and assign your full name to it as a string. How would you print the\n",
    "value of this variable?"
   ]
  },
  {
   "cell_type": "code",
   "execution_count": 12,
   "id": "5e14ac65-539c-4569-8d66-a39cf9ddc950",
   "metadata": {},
   "outputs": [
    {
     "name": "stdout",
     "output_type": "stream",
     "text": [
      "Your Full Name\n"
     ]
    }
   ],
   "source": [
    "name = \"Your Full Name\"\n",
    "print(name)\n"
   ]
  },
  {
   "cell_type": "code",
   "execution_count": null,
   "id": "14d64d38-ec9b-48c2-a39f-d0390be4b0e5",
   "metadata": {},
   "outputs": [],
   "source": [
    "Q10. Given the string \"Hello, World!\", extract the substring \"World\"."
   ]
  },
  {
   "cell_type": "code",
   "execution_count": 13,
   "id": "72ac827e-2454-4b1c-9171-0a46347ddd8b",
   "metadata": {},
   "outputs": [
    {
     "name": "stdout",
     "output_type": "stream",
     "text": [
      "World\n"
     ]
    }
   ],
   "source": [
    "original_string = \"Hello, World!\"\n",
    "substring = original_string[7:12]\n",
    "print(substring)\n"
   ]
  },
  {
   "cell_type": "code",
   "execution_count": null,
   "id": "2ffb2486-9659-4450-ae5e-4d7e48d8d1b5",
   "metadata": {},
   "outputs": [],
   "source": [
    "Q11. Create a variable named \"is_student\" and assign it a boolean value indicating whether you are\n",
    "currently a student or not."
   ]
  },
  {
   "cell_type": "code",
   "execution_count": 15,
   "id": "a2fb8928-b402-4245-b738-ccf03666019c",
   "metadata": {},
   "outputs": [
    {
     "name": "stdout",
     "output_type": "stream",
     "text": [
      "True\n"
     ]
    }
   ],
   "source": [
    "is_student = True\n",
    "print(is_student)\n",
    "\n",
    "\n"
   ]
  },
  {
   "cell_type": "code",
   "execution_count": null,
   "id": "64046e05-2c15-45bb-8b15-14272e3d1c70",
   "metadata": {},
   "outputs": [],
   "source": []
  }
 ],
 "metadata": {
  "kernelspec": {
   "display_name": "Python 3 (ipykernel)",
   "language": "python",
   "name": "python3"
  },
  "language_info": {
   "codemirror_mode": {
    "name": "ipython",
    "version": 3
   },
   "file_extension": ".py",
   "mimetype": "text/x-python",
   "name": "python",
   "nbconvert_exporter": "python",
   "pygments_lexer": "ipython3",
   "version": "3.10.8"
  }
 },
 "nbformat": 4,
 "nbformat_minor": 5
}
